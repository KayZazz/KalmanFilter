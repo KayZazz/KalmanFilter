{
 "cells": [
  {
   "cell_type": "code",
   "execution_count": 2,
   "metadata": {},
   "outputs": [],
   "source": [
    "import numpy as np\n",
    "import matplotlib.pyplot as plt\n"
   ]
  },
  {
   "cell_type": "code",
   "execution_count": null,
   "metadata": {},
   "outputs": [],
   "source": [
    "\n",
    "def loadData():\n",
    "    \"\"\"\n",
    "    x : time array\n",
    "    y : matrix of states\n",
    "    state vector: [x1, x1', x2,x2']\n",
    "    :return:\n",
    "    \"\"\"\n",
    "    features_num =3\n",
    "    t = np.arange(1, 50.0,0.5,dtype= float)\n",
    "    y = np.mat(np.zeros([len(t), features_num]))\n",
    "    a0 = 1.2\n",
    "    k0 = 1.1 \n",
    "    for i in range(1,features_num+1):\n",
    "        # linear input examples \n",
    "        # y[:,i-1] = np.mat( 1*i * np.array(t)+ 1).T\n",
    "        # movement model\n",
    "        # formulas:\n",
    "        #  a(t) = k0^t *a0\n",
    "        #  y = s(t) = 1/2 *a(t)*t^2\n",
    "        pass\n",
    "    # position \n",
    "    y[:,0] =(a0 * np.power(k0,t) * t**2)/2  \n",
    "    # velocity\n",
    "    y[:,1] = np.power(k0,t)* a0 * t\n",
    "    # acceleration\n",
    "    y[:,2] = np.power(k0,t)* a0    \n",
    "    # generate the corresponding state transition matrix\n",
    "    # and connection matrix\n",
    "    H = np.mat(np.identity(features_num))\n",
    "    dt = 0.5\n",
    "    phi = np.mat([[1,dt,dt**2*k0],\n",
    "                  [0,1,k0*dt],\n",
    "                  [0,0,k0]])\n",
    "    \n",
    "    \n",
    "    return t, y, H, phi\n",
    "\n",
    "\n",
    "\n",
    "if __name__ == '__main__':\n",
    "    x, y, H, phi = loadData()\n",
    "    print(\"phi:\",phi)\n",
    "    print(\"y:\",y)"
   ]
  }
 ],
 "metadata": {
  "kernelspec": {
   "display_name": "Python 3",
   "language": "python",
   "name": "python3"
  },
  "language_info": {
   "codemirror_mode": {
    "name": "ipython",
    "version": 3
   },
   "file_extension": ".py",
   "mimetype": "text/x-python",
   "name": "python",
   "nbconvert_exporter": "python",
   "pygments_lexer": "ipython3",
   "version": "3.5.3"
  }
 },
 "nbformat": 4,
 "nbformat_minor": 1
}
