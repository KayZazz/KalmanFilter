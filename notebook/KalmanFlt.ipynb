{
 "cells": [
  {
   "cell_type": "code",
   "execution_count": 2,
   "metadata": {},
   "outputs": [],
   "source": [
    "import numpy as np\n",
    "import matplotlib.pyplot as plt\n"
   ]
  },
  {
   "cell_type": "code",
   "execution_count": 4,
   "metadata": {},
   "outputs": [
    {
     "name": "stdout",
     "output_type": "stream",
     "text": [
      "phi: (3, 3)\ny: (98, 3)\n"
     ]
    }
   ],
   "source": [
    "import numpy as np\n",
    "import matplotlib.pyplot as plt\n",
    "\n",
    "def loadData():\n",
    "    \"\"\"\n",
    "    x : time array\n",
    "    y : matrix of states\n",
    "    state vector: [x1, x1', x2,x2']\n",
    "    :return:\n",
    "    \"\"\"\n",
    "    features_num =3\n",
    "    t = np.arange(1, 50.0,0.5,dtype= float)\n",
    "    y = np.mat(np.zeros([len(t), features_num]))\n",
    "    a0 = 1.2\n",
    "    k0 = 1.1 \n",
    "    for i in range(1,features_num+1):\n",
    "        # linear input examples \n",
    "        # y[:,i-1] = np.mat( 1*i * np.array(t)+ 1).T\n",
    "        # movement model\n",
    "        # formulas:\n",
    "        #  a(t) = k0^t *a0\n",
    "        #  y = s(t) = 1/2 *a(t)*t^2\n",
    "        pass\n",
    "    # position \n",
    "    y[:,0] =((a0 * np.power(np.ones([1,len(t)])*k0,t) * t**2)/2).T  \n",
    "    # velocity\n",
    "    y[:,1] = (np.power(np.ones([1,len(t)])*k0,t)* a0 * t).T\n",
    "    # acceleration\n",
    "    y[:,2] = (np.power(np.ones([1,len(t)])*k0,t)* a0).T    \n",
    "    # generate the corresponding state transition matrix\n",
    "    # and connection matrix\n",
    "    H = np.mat(np.identity(features_num))\n",
    "    dt = 0.5\n",
    "    phi = np.mat([[1,dt,dt**2*k0],\n",
    "                  [0,1,k0*dt],\n",
    "                  [0,0,k0]])\n",
    "    return t, y, H, phi\n",
    "\n",
    "if __name__ == '__main__':\n",
    "    x, y, H, phi = loadData()\n",
    "    print(\"phi:\",phi.shape)\n",
    "    print(\"y:\",y.shape)\n"
   ]
  },
  {
   "cell_type": "code",
   "execution_count": 3,
   "metadata": {},
   "outputs": [
    {
     "name": "stdout",
     "output_type": "stream",
     "text": [
      "Q: [[ 0.2  0.2  0.2]\n [ 0.2  0.5  0.2]\n [ 0.2  0.2  0.2]]\nR: [[ 0.3  0.3  0.3]\n [ 0.3  0.6  0.3]\n [ 0.3  0.3  0.3]]\n"
     ]
    }
   ],
   "source": [
    "import numpy as np\n",
    "\n",
    "def generate_Noise(shape = 4, model = \"Gaussian\"):\n",
    "\n",
    "    if model == \"Gaussian\":\n",
    "        if shape == 4:\n",
    "            R = np.mat([  [0.2,0.2,0.2,0.2],\n",
    "                          [0.2,0.8,0.8,0.2],\n",
    "                          [0.2,0.8,0.8,0.2],\n",
    "                          [0.2,0.2,0.2,0.2]])\n",
    "    \n",
    "            Q = np.mat([  [0.4,0.4,0.4,0.4],\n",
    "                          [0.4,0.6,0.6,0.4],\n",
    "                          [0.4,0.6,0.6,0.4],\n",
    "                          [0.4,0.4,0.4,0.4]])\n",
    "        elif shape ==3:\n",
    "            R = np.mat([ [0.2,0.2,0.2],\n",
    "                          [0.2,0.5,0.2],\n",
    "                          [0.2,0.2,0.2]])\n",
    "    \n",
    "            Q = np.mat([  [0.3,0.3,0.3],\n",
    "                          [0.3,0.6,0.3],\n",
    "                          [0.3,0.3,0.3]])\n",
    "    elif model == \"linear\":\n",
    "        R = np.mat(np.identity(shape) * 0.5)\n",
    "        Q = np.mat(np.identity(shape) * 0.5)\n",
    "    return R,Q\n",
    "if __name__ == '__main__':\n",
    "    Q,R = generate_Noise(3,\"Gaussian\")\n",
    "    print(\"Q:\",Q)\n",
    "    print(\"R:\",R)\n"
   ]
  },
  {
   "cell_type": "code",
   "execution_count": 1,
   "metadata": {},
   "outputs": [
    {
     "name": "stdout",
     "output_type": "stream",
     "text": [
      "[ 0.26452424  0.12232664 -0.24640838 -0.23323758 -0.0823557   0.29616689\n -0.52317957 -0.34954714 -0.30817988]\n"
     ]
    }
   ],
   "source": [
    "import numpy as np\n",
    "\n",
    "\n",
    "\n",
    "if __name__ == '__main__':\n",
    "    print(np.random.normal(0,0.3,9))\n",
    "    np.std()\n",
    "    pass"
   ]
  },
  {
   "cell_type": "code",
   "execution_count": null,
   "metadata": {},
   "outputs": [],
   "source": []
  }
 ],
 "metadata": {
  "kernelspec": {
   "display_name": "Python 3",
   "language": "python",
   "name": "python3"
  },
  "language_info": {
   "codemirror_mode": {
    "name": "ipython",
    "version": 3
   },
   "file_extension": ".py",
   "mimetype": "text/x-python",
   "name": "python",
   "nbconvert_exporter": "python",
   "pygments_lexer": "ipython3",
   "version": "3.5.3"
  }
 },
 "nbformat": 4,
 "nbformat_minor": 1
}
